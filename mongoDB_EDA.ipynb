{
  "nbformat": 4,
  "nbformat_minor": 0,
  "metadata": {
    "colab": {
      "name": "forestGISML.ipynb",
      "provenance": [],
      "toc_visible": true
    },
    "kernelspec": {
      "name": "python3",
      "display_name": "Python 3"
    }
  },
  "cells": [
    {
      "cell_type": "markdown",
      "metadata": {
        "id": "B_ciqrSCl-iv",
        "colab_type": "text"
      },
      "source": [
        "# EDA_part01\n",
        "\n"
      ]
    },
    {
      "cell_type": "markdown",
      "metadata": {
        "id": "yKoPUMLiQ5_6",
        "colab_type": "text"
      },
      "source": [
        "# 1. Dataset in Drive Cloud - csv"
      ]
    },
    {
      "cell_type": "markdown",
      "metadata": {
        "id": "s9RanVefmEet",
        "colab_type": "text"
      },
      "source": [
        "## 1.1 Data preparation with csv in Cloud"
      ]
    },
    {
      "cell_type": "code",
      "metadata": {
        "id": "W5iIHmoAUiMW",
        "colab_type": "code",
        "colab": {
          "base_uri": "https://localhost:8080/",
          "height": 683
        },
        "outputId": "ae05aa4f-936a-48b6-87f9-adab68629898"
      },
      "source": [
        "EDA_part01 = pd.read_csv('/content/drive/My Drive/<your file path>')\n",
        "EDA_part01.info()"
      ],
      "execution_count": 9,
      "outputs": [
        {
          "output_type": "stream",
          "text": [
            "<class 'pandas.core.frame.DataFrame'>\n",
            "RangeIndex: 191535 entries, 0 to 191534\n",
            "Data columns (total 30 columns):\n",
            " #   Column              Non-Null Count   Dtype  \n",
            "---  ------              --------------   -----  \n",
            " 0   siteindex           191535 non-null  float64\n",
            " 1   aspect              191535 non-null  float64\n",
            " 2   planCurvature       191535 non-null  float64\n",
            " 3   profileCurvature    191535 non-null  float64\n",
            " 4   slope               191535 non-null  float64\n",
            " 5   TPI                 191535 non-null  float64\n",
            " 6   TWI_SAGA            191535 non-null  float64\n",
            " 7   catchmentArea_SAGA  191535 non-null  float64\n",
            " 8   SVF_simplified      191535 non-null  float64\n",
            " 9   Gh_total            191535 non-null  float64\n",
            " 10  Dh_diffuse          191535 non-null  float64\n",
            " 11  Ih_direct           191535 non-null  float64\n",
            " 12  DEMpart01_10m       191535 non-null  float64\n",
            " 13  distFromCoast       191535 non-null  float64\n",
            " 14  meanJanRain         191535 non-null  float64\n",
            " 15  meanJulRain         191535 non-null  float64\n",
            " 16  maxJanTemp          191535 non-null  float64\n",
            " 17  minJulTemp          191535 non-null  float64\n",
            " 18  BDw                 191535 non-null  float64\n",
            " 19  CLY                 191535 non-null  float64\n",
            " 20  CFG                 191535 non-null  float64\n",
            " 21  ECD                 191535 non-null  float64\n",
            " 22  SOC                 191535 non-null  float64\n",
            " 23  pHw                 191535 non-null  float64\n",
            " 24  SND                 191535 non-null  float64\n",
            " 25  SLT                 191535 non-null  float64\n",
            " 26  RCODE               191535 non-null  int64  \n",
            " 27  SYMBOL              191535 non-null  object \n",
            " 28  DESCRIPT            191535 non-null  object \n",
            " 29  soil_order          191535 non-null  object \n",
            "dtypes: float64(26), int64(1), object(3)\n",
            "memory usage: 43.8+ MB\n"
          ],
          "name": "stdout"
        }
      ]
    },
    {
      "cell_type": "markdown",
      "metadata": {
        "id": "pd6Bhs2krDPI",
        "colab_type": "text"
      },
      "source": [
        "## 1.2 Data exploration"
      ]
    },
    {
      "cell_type": "code",
      "metadata": {
        "colab_type": "code",
        "id": "Z589PQqApJvO",
        "colab": {
          "base_uri": "https://localhost:8080/",
          "height": 317
        },
        "outputId": "2ec6b845-9b9c-446f-d3fd-ff1c50e777ba"
      },
      "source": [
        "#print summary of data\n",
        "EDA_part01.describe()"
      ],
      "execution_count": 10,
      "outputs": [
        {
          "output_type": "execute_result",
          "data": {
            "text/html": [
              "<div>\n",
              "<style scoped>\n",
              "    .dataframe tbody tr th:only-of-type {\n",
              "        vertical-align: middle;\n",
              "    }\n",
              "\n",
              "    .dataframe tbody tr th {\n",
              "        vertical-align: top;\n",
              "    }\n",
              "\n",
              "    .dataframe thead th {\n",
              "        text-align: right;\n",
              "    }\n",
              "</style>\n",
              "<table border=\"1\" class=\"dataframe\">\n",
              "  <thead>\n",
              "    <tr style=\"text-align: right;\">\n",
              "      <th></th>\n",
              "      <th>siteindex</th>\n",
              "      <th>aspect</th>\n",
              "      <th>planCurvature</th>\n",
              "      <th>profileCurvature</th>\n",
              "      <th>slope</th>\n",
              "      <th>TPI</th>\n",
              "      <th>TWI_SAGA</th>\n",
              "      <th>catchmentArea_SAGA</th>\n",
              "      <th>SVF_simplified</th>\n",
              "      <th>Gh_total</th>\n",
              "      <th>Dh_diffuse</th>\n",
              "      <th>Ih_direct</th>\n",
              "      <th>DEMpart01_10m</th>\n",
              "      <th>distFromCoast</th>\n",
              "      <th>meanJanRain</th>\n",
              "      <th>meanJulRain</th>\n",
              "      <th>maxJanTemp</th>\n",
              "      <th>minJulTemp</th>\n",
              "      <th>BDw</th>\n",
              "      <th>CLY</th>\n",
              "      <th>CFG</th>\n",
              "      <th>ECD</th>\n",
              "      <th>SOC</th>\n",
              "      <th>pHw</th>\n",
              "      <th>SND</th>\n",
              "      <th>SLT</th>\n",
              "      <th>RCODE</th>\n",
              "    </tr>\n",
              "  </thead>\n",
              "  <tbody>\n",
              "    <tr>\n",
              "      <th>count</th>\n",
              "      <td>191535.000000</td>\n",
              "      <td>191535.000000</td>\n",
              "      <td>191535.000000</td>\n",
              "      <td>191535.000000</td>\n",
              "      <td>191535.000000</td>\n",
              "      <td>191535.000000</td>\n",
              "      <td>191535.000000</td>\n",
              "      <td>191535.000000</td>\n",
              "      <td>191535.000000</td>\n",
              "      <td>191535.000000</td>\n",
              "      <td>191535.000000</td>\n",
              "      <td>191535.000000</td>\n",
              "      <td>191535.000000</td>\n",
              "      <td>191535.000000</td>\n",
              "      <td>191535.000000</td>\n",
              "      <td>191535.000000</td>\n",
              "      <td>191535.000000</td>\n",
              "      <td>191535.000000</td>\n",
              "      <td>191535.000000</td>\n",
              "      <td>191535.000000</td>\n",
              "      <td>191535.000000</td>\n",
              "      <td>191535.000000</td>\n",
              "      <td>191535.000000</td>\n",
              "      <td>191535.000000</td>\n",
              "      <td>191535.000000</td>\n",
              "      <td>191535.000000</td>\n",
              "      <td>191535.000000</td>\n",
              "    </tr>\n",
              "    <tr>\n",
              "      <th>mean</th>\n",
              "      <td>30.859954</td>\n",
              "      <td>176.311762</td>\n",
              "      <td>0.003113</td>\n",
              "      <td>0.000354</td>\n",
              "      <td>8.877794</td>\n",
              "      <td>0.461266</td>\n",
              "      <td>7.450585</td>\n",
              "      <td>3479.376495</td>\n",
              "      <td>0.992252</td>\n",
              "      <td>8.598186</td>\n",
              "      <td>1.334116</td>\n",
              "      <td>7.264070</td>\n",
              "      <td>172.036531</td>\n",
              "      <td>11.517802</td>\n",
              "      <td>6.862979</td>\n",
              "      <td>138.004719</td>\n",
              "      <td>24.324458</td>\n",
              "      <td>4.852809</td>\n",
              "      <td>0.991467</td>\n",
              "      <td>20.173994</td>\n",
              "      <td>3.721850</td>\n",
              "      <td>0.533685</td>\n",
              "      <td>3.422369</td>\n",
              "      <td>5.474240</td>\n",
              "      <td>61.932084</td>\n",
              "      <td>17.896682</td>\n",
              "      <td>4429.032866</td>\n",
              "    </tr>\n",
              "    <tr>\n",
              "      <th>std</th>\n",
              "      <td>3.494284</td>\n",
              "      <td>100.367764</td>\n",
              "      <td>0.043218</td>\n",
              "      <td>0.003235</td>\n",
              "      <td>4.695655</td>\n",
              "      <td>2.839538</td>\n",
              "      <td>1.430395</td>\n",
              "      <td>7130.512433</td>\n",
              "      <td>0.007544</td>\n",
              "      <td>0.196940</td>\n",
              "      <td>0.018270</td>\n",
              "      <td>0.188274</td>\n",
              "      <td>78.672675</td>\n",
              "      <td>3.980790</td>\n",
              "      <td>1.505168</td>\n",
              "      <td>16.351104</td>\n",
              "      <td>0.213888</td>\n",
              "      <td>0.455659</td>\n",
              "      <td>0.022386</td>\n",
              "      <td>4.826244</td>\n",
              "      <td>2.016013</td>\n",
              "      <td>0.114704</td>\n",
              "      <td>0.172752</td>\n",
              "      <td>0.179577</td>\n",
              "      <td>7.455068</td>\n",
              "      <td>7.135462</td>\n",
              "      <td>1227.508855</td>\n",
              "    </tr>\n",
              "    <tr>\n",
              "      <th>min</th>\n",
              "      <td>4.968135</td>\n",
              "      <td>0.468776</td>\n",
              "      <td>-1.000581</td>\n",
              "      <td>-0.046715</td>\n",
              "      <td>0.216786</td>\n",
              "      <td>-13.610500</td>\n",
              "      <td>4.462428</td>\n",
              "      <td>119.868935</td>\n",
              "      <td>0.931872</td>\n",
              "      <td>7.196007</td>\n",
              "      <td>1.243562</td>\n",
              "      <td>5.931001</td>\n",
              "      <td>12.331747</td>\n",
              "      <td>2.863352</td>\n",
              "      <td>3.315110</td>\n",
              "      <td>105.199451</td>\n",
              "      <td>23.698161</td>\n",
              "      <td>4.171488</td>\n",
              "      <td>0.777620</td>\n",
              "      <td>7.598073</td>\n",
              "      <td>0.743582</td>\n",
              "      <td>0.225512</td>\n",
              "      <td>2.757026</td>\n",
              "      <td>4.785116</td>\n",
              "      <td>16.150726</td>\n",
              "      <td>0.000000</td>\n",
              "      <td>3489.000000</td>\n",
              "    </tr>\n",
              "    <tr>\n",
              "      <th>25%</th>\n",
              "      <td>28.701300</td>\n",
              "      <td>86.998100</td>\n",
              "      <td>-0.010278</td>\n",
              "      <td>-0.000963</td>\n",
              "      <td>5.045458</td>\n",
              "      <td>-1.187180</td>\n",
              "      <td>6.310627</td>\n",
              "      <td>527.290165</td>\n",
              "      <td>0.988657</td>\n",
              "      <td>8.507871</td>\n",
              "      <td>1.320778</td>\n",
              "      <td>7.177206</td>\n",
              "      <td>106.778363</td>\n",
              "      <td>9.977953</td>\n",
              "      <td>5.972378</td>\n",
              "      <td>125.176096</td>\n",
              "      <td>24.174553</td>\n",
              "      <td>4.536300</td>\n",
              "      <td>0.982975</td>\n",
              "      <td>16.767342</td>\n",
              "      <td>2.021936</td>\n",
              "      <td>0.454078</td>\n",
              "      <td>3.329769</td>\n",
              "      <td>5.355303</td>\n",
              "      <td>58.968147</td>\n",
              "      <td>12.618612</td>\n",
              "      <td>3987.000000</td>\n",
              "    </tr>\n",
              "    <tr>\n",
              "      <th>50%</th>\n",
              "      <td>31.086996</td>\n",
              "      <td>184.070348</td>\n",
              "      <td>0.004713</td>\n",
              "      <td>0.000359</td>\n",
              "      <td>8.237154</td>\n",
              "      <td>0.318600</td>\n",
              "      <td>7.121087</td>\n",
              "      <td>1047.465195</td>\n",
              "      <td>0.994732</td>\n",
              "      <td>8.665457</td>\n",
              "      <td>1.334363</td>\n",
              "      <td>7.323806</td>\n",
              "      <td>170.826649</td>\n",
              "      <td>11.919775</td>\n",
              "      <td>7.001528</td>\n",
              "      <td>141.417885</td>\n",
              "      <td>24.401892</td>\n",
              "      <td>4.735460</td>\n",
              "      <td>0.994203</td>\n",
              "      <td>19.969254</td>\n",
              "      <td>3.230052</td>\n",
              "      <td>0.527810</td>\n",
              "      <td>3.430599</td>\n",
              "      <td>5.459506</td>\n",
              "      <td>62.719412</td>\n",
              "      <td>17.808460</td>\n",
              "      <td>3987.000000</td>\n",
              "    </tr>\n",
              "    <tr>\n",
              "      <th>75%</th>\n",
              "      <td>33.351924</td>\n",
              "      <td>258.729503</td>\n",
              "      <td>0.019254</td>\n",
              "      <td>0.001873</td>\n",
              "      <td>12.154162</td>\n",
              "      <td>2.090916</td>\n",
              "      <td>8.374490</td>\n",
              "      <td>3064.026550</td>\n",
              "      <td>0.998008</td>\n",
              "      <td>8.741329</td>\n",
              "      <td>1.348970</td>\n",
              "      <td>7.395365</td>\n",
              "      <td>233.555647</td>\n",
              "      <td>14.962630</td>\n",
              "      <td>7.967733</td>\n",
              "      <td>150.692681</td>\n",
              "      <td>24.481643</td>\n",
              "      <td>5.129972</td>\n",
              "      <td>1.003514</td>\n",
              "      <td>22.631589</td>\n",
              "      <td>4.844942</td>\n",
              "      <td>0.603611</td>\n",
              "      <td>3.538652</td>\n",
              "      <td>5.592357</td>\n",
              "      <td>66.403018</td>\n",
              "      <td>21.875284</td>\n",
              "      <td>3987.000000</td>\n",
              "    </tr>\n",
              "    <tr>\n",
              "      <th>max</th>\n",
              "      <td>51.419258</td>\n",
              "      <td>359.179016</td>\n",
              "      <td>2.615363</td>\n",
              "      <td>0.025737</td>\n",
              "      <td>30.173462</td>\n",
              "      <td>15.808383</td>\n",
              "      <td>13.486839</td>\n",
              "      <td>157524.058600</td>\n",
              "      <td>0.999995</td>\n",
              "      <td>8.848093</td>\n",
              "      <td>1.368385</td>\n",
              "      <td>7.533461</td>\n",
              "      <td>351.902641</td>\n",
              "      <td>17.650309</td>\n",
              "      <td>9.461957</td>\n",
              "      <td>164.163688</td>\n",
              "      <td>24.711542</td>\n",
              "      <td>5.915098</td>\n",
              "      <td>1.050617</td>\n",
              "      <td>42.035023</td>\n",
              "      <td>12.781467</td>\n",
              "      <td>1.339771</td>\n",
              "      <td>4.040617</td>\n",
              "      <td>6.431350</td>\n",
              "      <td>79.986639</td>\n",
              "      <td>62.882641</td>\n",
              "      <td>8499.000000</td>\n",
              "    </tr>\n",
              "  </tbody>\n",
              "</table>\n",
              "</div>"
            ],
            "text/plain": [
              "           siteindex         aspect  ...            SLT          RCODE\n",
              "count  191535.000000  191535.000000  ...  191535.000000  191535.000000\n",
              "mean       30.859954     176.311762  ...      17.896682    4429.032866\n",
              "std         3.494284     100.367764  ...       7.135462    1227.508855\n",
              "min         4.968135       0.468776  ...       0.000000    3489.000000\n",
              "25%        28.701300      86.998100  ...      12.618612    3987.000000\n",
              "50%        31.086996     184.070348  ...      17.808460    3987.000000\n",
              "75%        33.351924     258.729503  ...      21.875284    3987.000000\n",
              "max        51.419258     359.179016  ...      62.882641    8499.000000\n",
              "\n",
              "[8 rows x 27 columns]"
            ]
          },
          "metadata": {
            "tags": []
          },
          "execution_count": 10
        }
      ]
    },
    {
      "cell_type": "markdown",
      "metadata": {
        "id": "XGkUY732PIQy",
        "colab_type": "text"
      },
      "source": [
        "# 2. Dataset in mongoDB - noSQL\n"
      ]
    },
    {
      "cell_type": "markdown",
      "metadata": {
        "id": "FQ4Gq8oeUsfu",
        "colab_type": "text"
      },
      "source": [
        "## 2.1 Pre-process"
      ]
    },
    {
      "cell_type": "markdown",
      "metadata": {
        "id": "WMZH7eUrVNJL",
        "colab_type": "text"
      },
      "source": [
        "### 2.1.1 Transform csv data to MongoDB"
      ]
    },
    {
      "cell_type": "code",
      "metadata": {
        "id": "CloBKLAJVGfq",
        "colab_type": "code",
        "colab": {}
      },
      "source": [
        "# Define relative path to file\n",
        "EDA_part01 = pd.read_csv('/content/<your file path>')\n",
        "\n",
        "\n",
        "# remove useless columns\n",
        "#data = data.drop('Unnamed:0', axis = 1)\n",
        "\n",
        "# rename some columns\n",
        "EDA_part01 = EDA_part01.rename(columns = {'1' : 'Fit', '0' : 'No Fit'})\n",
        "EDA_part01.head(5)"
      ],
      "execution_count": null,
      "outputs": []
    },
    {
      "cell_type": "code",
      "metadata": {
        "id": "wFf_uGsHVYk3",
        "colab_type": "code",
        "colab": {}
      },
      "source": [
        "# check database dimensions\n",
        "print('Examples:{}\\nFeatures: {}'.format(EDA_part01.shape[0], EDA_part01.shape[1]))"
      ],
      "execution_count": null,
      "outputs": []
    },
    {
      "cell_type": "code",
      "metadata": {
        "id": "oVKPahdAVfsl",
        "colab_type": "code",
        "colab": {}
      },
      "source": [
        "# convert dataframe to list of dictionaries\n",
        "examples = EDA_part01.to_dict(orient = 'records')\n",
        "examples[0]"
      ],
      "execution_count": null,
      "outputs": []
    },
    {
      "cell_type": "markdown",
      "metadata": {
        "id": "MnQlhqiDVmiY",
        "colab_type": "text"
      },
      "source": [
        "### 2.1.2 Add dataset to mongoDB"
      ]
    },
    {
      "cell_type": "code",
      "metadata": {
        "id": "u_53geBhV5zc",
        "colab_type": "code",
        "colab": {}
      },
      "source": [
        "# records.insert_many((examples))\n",
        "\n",
        "##could be done in Jupyter Notebook and Anaconda with my local machine\n",
        "##or by changind NETWORK ACCESS: IP address from everywhere"
      ],
      "execution_count": null,
      "outputs": []
    },
    {
      "cell_type": "markdown",
      "metadata": {
        "id": "KpIyAjnHPkI1",
        "colab_type": "text"
      },
      "source": [
        "## 2.2 Establish connection to MongoDB"
      ]
    },
    {
      "cell_type": "markdown",
      "metadata": {
        "id": "iVNR2OLXWs0p",
        "colab_type": "text"
      },
      "source": [
        "### 2.2.1 Libraries and setup"
      ]
    },
    {
      "cell_type": "code",
      "metadata": {
        "id": "pa1vnsxD7_Yf",
        "colab_type": "code",
        "colab": {}
      },
      "source": [
        "import pymongo\n",
        "\n",
        "# load mongoDB Client module\n",
        "from pymongo import MongoClient\n",
        "\n",
        "# Load other modules for data manipulation and computations\n",
        "import pandas as pd\n",
        "import numpy as np"
      ],
      "execution_count": 1,
      "outputs": []
    },
    {
      "cell_type": "code",
      "metadata": {
        "id": "zV6SAhfB8MRs",
        "colab_type": "code",
        "colab": {}
      },
      "source": [
        "# !pip install dnspython==2.0.0\n",
        "# !pip install pymongo[srv]"
      ],
      "execution_count": 59,
      "outputs": []
    },
    {
      "cell_type": "markdown",
      "metadata": {
        "id": "GcbPumj2PwGh",
        "colab_type": "text"
      },
      "source": [
        "### 2.2.2 Connect to mongoDB "
      ]
    },
    {
      "cell_type": "code",
      "metadata": {
        "id": "PBE33XIc8GOL",
        "colab_type": "code",
        "colab": {}
      },
      "source": [
        "import pymongo\n",
        "import dns\n",
        "\n",
        "# connection into application with MongoDB Client with User Credentials\n",
        "client = pymongo.MongoClient(\"mongodb+srv://<username>:<password>@<cluster-path>.mongodb.net/<dbname>?retryWrites=true&w=majority\")\n",
        "db = client.test"
      ],
      "execution_count": 52,
      "outputs": []
    },
    {
      "cell_type": "code",
      "metadata": {
        "id": "iaBofC-5Aimx",
        "colab_type": "code",
        "colab": {
          "base_uri": "https://localhost:8080/",
          "height": 55
        },
        "outputId": "a2116c63-66d3-458d-ac1d-74f56023485a"
      },
      "source": [
        "# get a database of collections from MongoDB API\n",
        "## connect to the database\n",
        "db = client.get_database('<dbname>')\n",
        "\n",
        "## connect to the collection\n",
        "records = db['EDA_part01']\n",
        "\n",
        "## check the connection\n",
        "records"
      ],
      "execution_count": 53,
      "outputs": [
        {
          "output_type": "execute_result",
          "data": {
            "text/plain": [
              "Collection(Database(MongoClient(host=['<MONGO CONEXION>')"
            ]
          },
          "metadata": {
            "tags": []
          },
          "execution_count": 53
        }
      ]
    },
    {
      "cell_type": "code",
      "metadata": {
        "id": "GEVHDFFKYaCN",
        "colab_type": "code",
        "colab": {
          "base_uri": "https://localhost:8080/",
          "height": 35
        },
        "outputId": "e7edd976-05ef-4e02-840a-dbc50f4e9a75"
      },
      "source": [
        "# number of observations\n",
        "records.count_documents({})\n",
        "\n",
        "#OUTPUT: 191535 obs"
      ],
      "execution_count": 60,
      "outputs": [
        {
          "output_type": "execute_result",
          "data": {
            "text/plain": [
              "191535"
            ]
          },
          "metadata": {
            "tags": []
          },
          "execution_count": 60
        }
      ]
    },
    {
      "cell_type": "markdown",
      "metadata": {
        "id": "rK4pVcmITynK",
        "colab_type": "text"
      },
      "source": [
        "## 2.3 Convert collection from MongoDB to Dataframe"
      ]
    },
    {
      "cell_type": "code",
      "metadata": {
        "id": "blFArdVmMXFx",
        "colab_type": "code",
        "colab": {}
      },
      "source": [
        "# Convert entire collection to Pandas dataframe\n",
        "import pandas as pd\n",
        "\n",
        "#exclude ID column\n",
        "exclude_data = {'_id': False}\n",
        "\n",
        "EDApart01 = pd.DataFrame(list(records.find(projection=exclude_data)))"
      ],
      "execution_count": 55,
      "outputs": []
    },
    {
      "cell_type": "code",
      "metadata": {
        "id": "TFKhho8FMtNn",
        "colab_type": "code",
        "colab": {
          "base_uri": "https://localhost:8080/",
          "height": 35
        },
        "outputId": "a53a8f87-d5cf-4983-b6a0-d0ab9c5686ae"
      },
      "source": [
        "# verify dimension of dataset\n",
        "EDApart01.shape\n",
        "\n",
        "# OUTPUT: 191535 rows and 30 columns"
      ],
      "execution_count": 57,
      "outputs": [
        {
          "output_type": "execute_result",
          "data": {
            "text/plain": [
              "(191535, 30)"
            ]
          },
          "metadata": {
            "tags": []
          },
          "execution_count": 57
        }
      ]
    },
    {
      "cell_type": "code",
      "metadata": {
        "id": "Qgi4hJvmM4AU",
        "colab_type": "code",
        "colab": {
          "base_uri": "https://localhost:8080/",
          "height": 564
        },
        "outputId": "0cf24859-bfc9-4e74-f99f-1b1e6fe69058"
      },
      "source": [
        "# verify dataset in dataframe\n",
        "EDApart01.head()"
      ],
      "execution_count": 58,
      "outputs": [
        {
          "output_type": "execute_result",
          "data": {
            "text/html": [
              "<div>\n",
              "<style scoped>\n",
              "    .dataframe tbody tr th:only-of-type {\n",
              "        vertical-align: middle;\n",
              "    }\n",
              "\n",
              "    .dataframe tbody tr th {\n",
              "        vertical-align: top;\n",
              "    }\n",
              "\n",
              "    .dataframe thead th {\n",
              "        text-align: right;\n",
              "    }\n",
              "</style>\n",
              "<table border=\"1\" class=\"dataframe\">\n",
              "  <thead>\n",
              "    <tr style=\"text-align: right;\">\n",
              "      <th></th>\n",
              "      <th>siteindex</th>\n",
              "      <th>aspect</th>\n",
              "      <th>planCurvature</th>\n",
              "      <th>profileCurvature</th>\n",
              "      <th>slope</th>\n",
              "      <th>TPI</th>\n",
              "      <th>TWI_SAGA</th>\n",
              "      <th>catchmentArea_SAGA</th>\n",
              "      <th>SVF_simplified</th>\n",
              "      <th>Gh_total</th>\n",
              "      <th>Dh_diffuse</th>\n",
              "      <th>Ih_direct</th>\n",
              "      <th>DEMpart01_10m</th>\n",
              "      <th>distFromCoast</th>\n",
              "      <th>meanJanRain</th>\n",
              "      <th>meanJulRain</th>\n",
              "      <th>maxJanTemp</th>\n",
              "      <th>minJulTemp</th>\n",
              "      <th>BDw</th>\n",
              "      <th>CLY</th>\n",
              "      <th>CFG</th>\n",
              "      <th>ECD</th>\n",
              "      <th>SOC</th>\n",
              "      <th>pHw</th>\n",
              "      <th>SND</th>\n",
              "      <th>SLT</th>\n",
              "      <th>RCODE</th>\n",
              "      <th>SYMBOL</th>\n",
              "      <th>DESCRIPT</th>\n",
              "      <th>soil_order</th>\n",
              "    </tr>\n",
              "  </thead>\n",
              "  <tbody>\n",
              "    <tr>\n",
              "      <th>0</th>\n",
              "      <td>27.914452</td>\n",
              "      <td>301.438751</td>\n",
              "      <td>0.002594</td>\n",
              "      <td>0.000163</td>\n",
              "      <td>5.779576</td>\n",
              "      <td>-1.204296</td>\n",
              "      <td>8.033133</td>\n",
              "      <td>2934.342773</td>\n",
              "      <td>0.997453</td>\n",
              "      <td>8.703231</td>\n",
              "      <td>1.359027</td>\n",
              "      <td>7.344204</td>\n",
              "      <td>54.816718</td>\n",
              "      <td>5.945354</td>\n",
              "      <td>4.617585</td>\n",
              "      <td>111.933050</td>\n",
              "      <td>24.504642</td>\n",
              "      <td>5.596159</td>\n",
              "      <td>1.018121</td>\n",
              "      <td>12.715149</td>\n",
              "      <td>1.777616</td>\n",
              "      <td>0.621924</td>\n",
              "      <td>3.254319</td>\n",
              "      <td>5.665130</td>\n",
              "      <td>75.630202</td>\n",
              "      <td>11.654650</td>\n",
              "      <td>7497</td>\n",
              "      <td>Ts</td>\n",
              "      <td>Dominantly non-marine sequences of  gravel, sa...</td>\n",
              "      <td>Kurosol</td>\n",
              "    </tr>\n",
              "    <tr>\n",
              "      <th>1</th>\n",
              "      <td>27.615402</td>\n",
              "      <td>310.799202</td>\n",
              "      <td>-0.007862</td>\n",
              "      <td>-0.001871</td>\n",
              "      <td>5.366687</td>\n",
              "      <td>-1.327446</td>\n",
              "      <td>9.179167</td>\n",
              "      <td>8988.151001</td>\n",
              "      <td>0.997771</td>\n",
              "      <td>8.719011</td>\n",
              "      <td>1.359776</td>\n",
              "      <td>7.359235</td>\n",
              "      <td>52.767088</td>\n",
              "      <td>5.931636</td>\n",
              "      <td>4.569838</td>\n",
              "      <td>111.762547</td>\n",
              "      <td>24.511998</td>\n",
              "      <td>5.604992</td>\n",
              "      <td>1.019250</td>\n",
              "      <td>13.161926</td>\n",
              "      <td>1.803848</td>\n",
              "      <td>0.635599</td>\n",
              "      <td>3.237924</td>\n",
              "      <td>5.732380</td>\n",
              "      <td>75.776229</td>\n",
              "      <td>11.061845</td>\n",
              "      <td>7497</td>\n",
              "      <td>Ts</td>\n",
              "      <td>Dominantly non-marine sequences of  gravel, sa...</td>\n",
              "      <td>Kurosol</td>\n",
              "    </tr>\n",
              "    <tr>\n",
              "      <th>2</th>\n",
              "      <td>27.474239</td>\n",
              "      <td>309.554893</td>\n",
              "      <td>0.002370</td>\n",
              "      <td>-0.002682</td>\n",
              "      <td>5.156123</td>\n",
              "      <td>-1.308731</td>\n",
              "      <td>9.393249</td>\n",
              "      <td>11018.754150</td>\n",
              "      <td>0.997950</td>\n",
              "      <td>8.715564</td>\n",
              "      <td>1.360110</td>\n",
              "      <td>7.355454</td>\n",
              "      <td>52.174048</td>\n",
              "      <td>5.922603</td>\n",
              "      <td>4.552800</td>\n",
              "      <td>111.699702</td>\n",
              "      <td>24.514470</td>\n",
              "      <td>5.608177</td>\n",
              "      <td>1.019314</td>\n",
              "      <td>13.208274</td>\n",
              "      <td>1.805538</td>\n",
              "      <td>0.635770</td>\n",
              "      <td>3.236828</td>\n",
              "      <td>5.736364</td>\n",
              "      <td>75.738196</td>\n",
              "      <td>11.053531</td>\n",
              "      <td>7497</td>\n",
              "      <td>Ts</td>\n",
              "      <td>Dominantly non-marine sequences of  gravel, sa...</td>\n",
              "      <td>Kurosol</td>\n",
              "    </tr>\n",
              "    <tr>\n",
              "      <th>3</th>\n",
              "      <td>27.193528</td>\n",
              "      <td>296.182625</td>\n",
              "      <td>0.006988</td>\n",
              "      <td>-0.001673</td>\n",
              "      <td>6.149034</td>\n",
              "      <td>-1.224942</td>\n",
              "      <td>7.375174</td>\n",
              "      <td>1537.512360</td>\n",
              "      <td>0.997107</td>\n",
              "      <td>8.692617</td>\n",
              "      <td>1.358343</td>\n",
              "      <td>7.334274</td>\n",
              "      <td>56.197104</td>\n",
              "      <td>5.950115</td>\n",
              "      <td>4.654665</td>\n",
              "      <td>112.062519</td>\n",
              "      <td>24.498619</td>\n",
              "      <td>5.589504</td>\n",
              "      <td>1.017350</td>\n",
              "      <td>12.415153</td>\n",
              "      <td>1.751514</td>\n",
              "      <td>0.611210</td>\n",
              "      <td>3.265267</td>\n",
              "      <td>5.617801</td>\n",
              "      <td>75.361548</td>\n",
              "      <td>12.223299</td>\n",
              "      <td>7497</td>\n",
              "      <td>Ts</td>\n",
              "      <td>Dominantly non-marine sequences of  gravel, sa...</td>\n",
              "      <td>Kurosol</td>\n",
              "    </tr>\n",
              "    <tr>\n",
              "      <th>4</th>\n",
              "      <td>27.879600</td>\n",
              "      <td>299.264755</td>\n",
              "      <td>0.002478</td>\n",
              "      <td>-0.000544</td>\n",
              "      <td>5.949467</td>\n",
              "      <td>-1.203051</td>\n",
              "      <td>7.558006</td>\n",
              "      <td>1864.471374</td>\n",
              "      <td>0.997302</td>\n",
              "      <td>8.699115</td>\n",
              "      <td>1.358685</td>\n",
              "      <td>7.340429</td>\n",
              "      <td>55.698914</td>\n",
              "      <td>5.941069</td>\n",
              "      <td>4.633741</td>\n",
              "      <td>111.988205</td>\n",
              "      <td>24.501776</td>\n",
              "      <td>5.593312</td>\n",
              "      <td>1.017674</td>\n",
              "      <td>12.763595</td>\n",
              "      <td>1.769438</td>\n",
              "      <td>0.610069</td>\n",
              "      <td>3.259003</td>\n",
              "      <td>5.640452</td>\n",
              "      <td>75.077790</td>\n",
              "      <td>12.158615</td>\n",
              "      <td>7497</td>\n",
              "      <td>Ts</td>\n",
              "      <td>Dominantly non-marine sequences of  gravel, sa...</td>\n",
              "      <td>Kurosol</td>\n",
              "    </tr>\n",
              "  </tbody>\n",
              "</table>\n",
              "</div>"
            ],
            "text/plain": [
              "   siteindex  ...  soil_order\n",
              "0  27.914452  ...     Kurosol\n",
              "1  27.615402  ...     Kurosol\n",
              "2  27.474239  ...     Kurosol\n",
              "3  27.193528  ...     Kurosol\n",
              "4  27.879600  ...     Kurosol\n",
              "\n",
              "[5 rows x 30 columns]"
            ]
          },
          "metadata": {
            "tags": []
          },
          "execution_count": 58
        }
      ]
    },
    {
      "cell_type": "markdown",
      "metadata": {
        "id": "QjQAsiOgRPkx",
        "colab_type": "text"
      },
      "source": [
        "## 2.4 Queries in MongoDB\n"
      ]
    },
    {
      "cell_type": "code",
      "metadata": {
        "id": "b-7TA4a8PBxW",
        "colab_type": "code",
        "colab": {
          "base_uri": "https://localhost:8080/",
          "height": 73
        },
        "outputId": "e78098e0-8a1e-4d24-fb6e-189180e3b32b"
      },
      "source": [
        "  # find docs matching a giving criteria\n",
        "  ##find a single doc in database\n",
        "  search1 = records.find_one({'siteindex': 27.914452})\n",
        "  print('{}\\n'.format(search1))"
      ],
      "execution_count": null,
      "outputs": [
        {
          "output_type": "stream",
          "text": [
            "{'_id': ObjectId('5f4f2954a994358c890c6e7f'), 'siteindex': 27.914452, 'aspect': 301.43875099999997, 'planCurvature': 0.002594, 'profileCurvature': 0.00016299999999999998, 'slope': 5.7795760000000005, 'TPI': -1.2042959999999998, 'TWI_SAGA': 8.033133, 'catchmentArea_SAGA': 2934.342773, 'SVF_simplified': 0.997453, 'Gh_total': 8.703231, 'Dh_diffuse': 1.359027, 'Ih_direct': 7.3442039999999995, 'DEMpart01_10m': 54.816718, 'distFromCoast': 5.945354, 'meanJanRain': 4.617585, 'meanJulRain': 111.93305, 'maxJanTemp': 24.504642, 'minJulTemp': 5.596158999999999, 'BDw': 1.0181209999999998, 'CLY': 12.715149, 'CFG': 1.777616, 'ECD': 0.621924, 'SOC': 3.2543189999999997, 'pHw': 5.66513, 'SND': 75.630202, 'SLT': 11.65465, 'RCODE': 7497, 'SYMBOL': 'Ts', 'DESCRIPT': 'Dominantly non-marine sequences of  gravel, sand, silt, clay and regolith.', 'soil_order': 'Kurosol'}\n",
            "\n"
          ],
          "name": "stdout"
        }
      ]
    },
    {
      "cell_type": "code",
      "metadata": {
        "id": "WozY7iskZ6FP",
        "colab_type": "code",
        "colab": {
          "base_uri": "https://localhost:8080/",
          "height": 109
        },
        "outputId": "3d9d5c83-6630-4c61-c903-392e5e980535"
      },
      "source": [
        "# find multiple documents in database\n",
        "# SELECT * FROM records WHERE siteindex = >25 AND aspect < 300\n",
        "search2 = records.find({'$and': [\n",
        "                                 {'siteindex': {'$lt': 25}},\n",
        "                                 {'aspect': {'$lt': 300}}\n",
        "                                 ]\n",
        "                      })\n",
        "\n",
        "#extract the N example from the search database\n",
        "N = 5\n",
        "search2_5 = search2[N-1]\n",
        "\n",
        "print('I found:{} Examples based on this criteria \\n'.format(len(list(search2))))\n",
        "print('The fifht one in the list is: \\n{}'.format(search2_5))\n"
      ],
      "execution_count": 11,
      "outputs": [
        {
          "output_type": "stream",
          "text": [
            "I found:8149 Examples based on this criteria \n",
            "\n",
            "The fifht one in the list is: \n",
            "{'_id': ObjectId('5f4f2954a994358c890c6edf'), 'siteindex': 23.75146, 'aspect': 235.542454, 'planCurvature': 0.036437, 'profileCurvature': 0.0017850000000000001, 'slope': 10.098275, 'TPI': 1.204556, 'TWI_SAGA': 6.095308999999999, 'catchmentArea_SAGA': 424.37899000000004, 'SVF_simplified': 0.992185, 'Gh_total': 8.44037, 'Dh_diffuse': 1.356531, 'Ih_direct': 7.083838, 'DEMpart01_10m': 24.248814000000003, 'distFromCoast': 3.557601, 'meanJanRain': 3.586064, 'meanJulRain': 106.12951499999998, 'maxJanTemp': 24.555294, 'minJulTemp': 5.860599, 'BDw': 0.947845, 'CLY': 22.55808, 'CFG': 1.197609, 'ECD': 0.695099, 'SOC': 3.545699, 'pHw': 6.233383, 'SND': 45.640346, 'SLT': 31.801571999999997, 'RCODE': 7499, 'SYMBOL': 'Tb', 'DESCRIPT': 'Basalt (tholeiitic to alkalic) and related pyroclastic rocks.', 'soil_order': 'Kurosol'}\n"
          ],
          "name": "stdout"
        }
      ]
    },
    {
      "cell_type": "code",
      "metadata": {
        "id": "GbjiCPjxb-fP",
        "colab_type": "code",
        "colab": {
          "base_uri": "https://localhost:8080/",
          "height": 35
        },
        "outputId": "e887d7af-e740-47ab-bcc3-5c4a5d0fcf87"
      },
      "source": [
        "# randomly selects the specified number of documents from it inputs\n",
        "sample = records.find({ '$sample': { 19153 } })\n",
        "sample"
      ],
      "execution_count": null,
      "outputs": [
        {
          "output_type": "execute_result",
          "data": {
            "text/plain": [
              "<pymongo.cursor.Cursor at 0x7fa4947e32b0>"
            ]
          },
          "metadata": {
            "tags": []
          },
          "execution_count": 85
        }
      ]
    },
    {
      "cell_type": "markdown",
      "metadata": {
        "id": "4XL3-eNvYWwc",
        "colab_type": "text"
      },
      "source": [
        "## 2.5 Data exploration"
      ]
    },
    {
      "cell_type": "markdown",
      "metadata": {
        "id": "wmbw73DVYOuS",
        "colab_type": "text"
      },
      "source": [
        "### 2.5.1 Descriptive Statistics"
      ]
    },
    {
      "cell_type": "code",
      "metadata": {
        "id": "k4u-fuX1Xz4f",
        "colab_type": "code",
        "colab": {
          "base_uri": "https://localhost:8080/",
          "height": 317
        },
        "outputId": "175882a8-a24a-45cd-c3ff-4869bbc09675"
      },
      "source": [
        "EDApart01.describe()"
      ],
      "execution_count": 62,
      "outputs": [
        {
          "output_type": "execute_result",
          "data": {
            "text/html": [
              "<div>\n",
              "<style scoped>\n",
              "    .dataframe tbody tr th:only-of-type {\n",
              "        vertical-align: middle;\n",
              "    }\n",
              "\n",
              "    .dataframe tbody tr th {\n",
              "        vertical-align: top;\n",
              "    }\n",
              "\n",
              "    .dataframe thead th {\n",
              "        text-align: right;\n",
              "    }\n",
              "</style>\n",
              "<table border=\"1\" class=\"dataframe\">\n",
              "  <thead>\n",
              "    <tr style=\"text-align: right;\">\n",
              "      <th></th>\n",
              "      <th>siteindex</th>\n",
              "      <th>aspect</th>\n",
              "      <th>planCurvature</th>\n",
              "      <th>profileCurvature</th>\n",
              "      <th>slope</th>\n",
              "      <th>TPI</th>\n",
              "      <th>TWI_SAGA</th>\n",
              "      <th>catchmentArea_SAGA</th>\n",
              "      <th>SVF_simplified</th>\n",
              "      <th>Gh_total</th>\n",
              "      <th>Dh_diffuse</th>\n",
              "      <th>Ih_direct</th>\n",
              "      <th>DEMpart01_10m</th>\n",
              "      <th>distFromCoast</th>\n",
              "      <th>meanJanRain</th>\n",
              "      <th>meanJulRain</th>\n",
              "      <th>maxJanTemp</th>\n",
              "      <th>minJulTemp</th>\n",
              "      <th>BDw</th>\n",
              "      <th>CLY</th>\n",
              "      <th>CFG</th>\n",
              "      <th>ECD</th>\n",
              "      <th>SOC</th>\n",
              "      <th>pHw</th>\n",
              "      <th>SND</th>\n",
              "      <th>SLT</th>\n",
              "      <th>RCODE</th>\n",
              "    </tr>\n",
              "  </thead>\n",
              "  <tbody>\n",
              "    <tr>\n",
              "      <th>count</th>\n",
              "      <td>191535.000000</td>\n",
              "      <td>191535.000000</td>\n",
              "      <td>191535.000000</td>\n",
              "      <td>191535.000000</td>\n",
              "      <td>191535.000000</td>\n",
              "      <td>191535.000000</td>\n",
              "      <td>191535.000000</td>\n",
              "      <td>191535.000000</td>\n",
              "      <td>191535.000000</td>\n",
              "      <td>191535.000000</td>\n",
              "      <td>191535.000000</td>\n",
              "      <td>191535.000000</td>\n",
              "      <td>191535.000000</td>\n",
              "      <td>191535.000000</td>\n",
              "      <td>191535.000000</td>\n",
              "      <td>191535.000000</td>\n",
              "      <td>191535.000000</td>\n",
              "      <td>191535.000000</td>\n",
              "      <td>191535.000000</td>\n",
              "      <td>191535.000000</td>\n",
              "      <td>191535.000000</td>\n",
              "      <td>191535.000000</td>\n",
              "      <td>191535.000000</td>\n",
              "      <td>191535.000000</td>\n",
              "      <td>191535.000000</td>\n",
              "      <td>191535.000000</td>\n",
              "      <td>191535.000000</td>\n",
              "    </tr>\n",
              "    <tr>\n",
              "      <th>mean</th>\n",
              "      <td>30.859954</td>\n",
              "      <td>176.311762</td>\n",
              "      <td>0.003113</td>\n",
              "      <td>0.000354</td>\n",
              "      <td>8.877794</td>\n",
              "      <td>0.461266</td>\n",
              "      <td>7.450585</td>\n",
              "      <td>3479.376495</td>\n",
              "      <td>0.992252</td>\n",
              "      <td>8.598186</td>\n",
              "      <td>1.334116</td>\n",
              "      <td>7.264070</td>\n",
              "      <td>172.036531</td>\n",
              "      <td>11.517802</td>\n",
              "      <td>6.862979</td>\n",
              "      <td>138.004719</td>\n",
              "      <td>24.324458</td>\n",
              "      <td>4.852809</td>\n",
              "      <td>0.991467</td>\n",
              "      <td>20.173994</td>\n",
              "      <td>3.721850</td>\n",
              "      <td>0.533685</td>\n",
              "      <td>3.422369</td>\n",
              "      <td>5.474240</td>\n",
              "      <td>61.932084</td>\n",
              "      <td>17.896682</td>\n",
              "      <td>4429.032866</td>\n",
              "    </tr>\n",
              "    <tr>\n",
              "      <th>std</th>\n",
              "      <td>3.494284</td>\n",
              "      <td>100.367764</td>\n",
              "      <td>0.043218</td>\n",
              "      <td>0.003235</td>\n",
              "      <td>4.695655</td>\n",
              "      <td>2.839538</td>\n",
              "      <td>1.430395</td>\n",
              "      <td>7130.512433</td>\n",
              "      <td>0.007544</td>\n",
              "      <td>0.196940</td>\n",
              "      <td>0.018270</td>\n",
              "      <td>0.188274</td>\n",
              "      <td>78.672675</td>\n",
              "      <td>3.980790</td>\n",
              "      <td>1.505168</td>\n",
              "      <td>16.351104</td>\n",
              "      <td>0.213888</td>\n",
              "      <td>0.455659</td>\n",
              "      <td>0.022386</td>\n",
              "      <td>4.826244</td>\n",
              "      <td>2.016013</td>\n",
              "      <td>0.114704</td>\n",
              "      <td>0.172752</td>\n",
              "      <td>0.179577</td>\n",
              "      <td>7.455068</td>\n",
              "      <td>7.135462</td>\n",
              "      <td>1227.508855</td>\n",
              "    </tr>\n",
              "    <tr>\n",
              "      <th>min</th>\n",
              "      <td>4.968135</td>\n",
              "      <td>0.468776</td>\n",
              "      <td>-1.000581</td>\n",
              "      <td>-0.046715</td>\n",
              "      <td>0.216786</td>\n",
              "      <td>-13.610500</td>\n",
              "      <td>4.462428</td>\n",
              "      <td>119.868935</td>\n",
              "      <td>0.931872</td>\n",
              "      <td>7.196007</td>\n",
              "      <td>1.243562</td>\n",
              "      <td>5.931001</td>\n",
              "      <td>12.331747</td>\n",
              "      <td>2.863352</td>\n",
              "      <td>3.315110</td>\n",
              "      <td>105.199451</td>\n",
              "      <td>23.698161</td>\n",
              "      <td>4.171488</td>\n",
              "      <td>0.777620</td>\n",
              "      <td>7.598073</td>\n",
              "      <td>0.743582</td>\n",
              "      <td>0.225512</td>\n",
              "      <td>2.757026</td>\n",
              "      <td>4.785116</td>\n",
              "      <td>16.150726</td>\n",
              "      <td>0.000000</td>\n",
              "      <td>3489.000000</td>\n",
              "    </tr>\n",
              "    <tr>\n",
              "      <th>25%</th>\n",
              "      <td>28.701300</td>\n",
              "      <td>86.998100</td>\n",
              "      <td>-0.010278</td>\n",
              "      <td>-0.000963</td>\n",
              "      <td>5.045458</td>\n",
              "      <td>-1.187180</td>\n",
              "      <td>6.310627</td>\n",
              "      <td>527.290165</td>\n",
              "      <td>0.988657</td>\n",
              "      <td>8.507871</td>\n",
              "      <td>1.320778</td>\n",
              "      <td>7.177206</td>\n",
              "      <td>106.778363</td>\n",
              "      <td>9.977953</td>\n",
              "      <td>5.972378</td>\n",
              "      <td>125.176096</td>\n",
              "      <td>24.174553</td>\n",
              "      <td>4.536300</td>\n",
              "      <td>0.982975</td>\n",
              "      <td>16.767342</td>\n",
              "      <td>2.021936</td>\n",
              "      <td>0.454078</td>\n",
              "      <td>3.329769</td>\n",
              "      <td>5.355303</td>\n",
              "      <td>58.968147</td>\n",
              "      <td>12.618612</td>\n",
              "      <td>3987.000000</td>\n",
              "    </tr>\n",
              "    <tr>\n",
              "      <th>50%</th>\n",
              "      <td>31.086996</td>\n",
              "      <td>184.070348</td>\n",
              "      <td>0.004713</td>\n",
              "      <td>0.000359</td>\n",
              "      <td>8.237154</td>\n",
              "      <td>0.318600</td>\n",
              "      <td>7.121087</td>\n",
              "      <td>1047.465195</td>\n",
              "      <td>0.994732</td>\n",
              "      <td>8.665457</td>\n",
              "      <td>1.334363</td>\n",
              "      <td>7.323806</td>\n",
              "      <td>170.826649</td>\n",
              "      <td>11.919775</td>\n",
              "      <td>7.001528</td>\n",
              "      <td>141.417885</td>\n",
              "      <td>24.401892</td>\n",
              "      <td>4.735460</td>\n",
              "      <td>0.994203</td>\n",
              "      <td>19.969254</td>\n",
              "      <td>3.230052</td>\n",
              "      <td>0.527810</td>\n",
              "      <td>3.430599</td>\n",
              "      <td>5.459506</td>\n",
              "      <td>62.719412</td>\n",
              "      <td>17.808460</td>\n",
              "      <td>3987.000000</td>\n",
              "    </tr>\n",
              "    <tr>\n",
              "      <th>75%</th>\n",
              "      <td>33.351924</td>\n",
              "      <td>258.729503</td>\n",
              "      <td>0.019254</td>\n",
              "      <td>0.001873</td>\n",
              "      <td>12.154162</td>\n",
              "      <td>2.090916</td>\n",
              "      <td>8.374490</td>\n",
              "      <td>3064.026550</td>\n",
              "      <td>0.998008</td>\n",
              "      <td>8.741329</td>\n",
              "      <td>1.348970</td>\n",
              "      <td>7.395365</td>\n",
              "      <td>233.555647</td>\n",
              "      <td>14.962630</td>\n",
              "      <td>7.967733</td>\n",
              "      <td>150.692681</td>\n",
              "      <td>24.481643</td>\n",
              "      <td>5.129972</td>\n",
              "      <td>1.003514</td>\n",
              "      <td>22.631589</td>\n",
              "      <td>4.844942</td>\n",
              "      <td>0.603611</td>\n",
              "      <td>3.538652</td>\n",
              "      <td>5.592357</td>\n",
              "      <td>66.403018</td>\n",
              "      <td>21.875284</td>\n",
              "      <td>3987.000000</td>\n",
              "    </tr>\n",
              "    <tr>\n",
              "      <th>max</th>\n",
              "      <td>51.419258</td>\n",
              "      <td>359.179016</td>\n",
              "      <td>2.615363</td>\n",
              "      <td>0.025737</td>\n",
              "      <td>30.173462</td>\n",
              "      <td>15.808383</td>\n",
              "      <td>13.486839</td>\n",
              "      <td>157524.058600</td>\n",
              "      <td>0.999995</td>\n",
              "      <td>8.848093</td>\n",
              "      <td>1.368385</td>\n",
              "      <td>7.533461</td>\n",
              "      <td>351.902641</td>\n",
              "      <td>17.650309</td>\n",
              "      <td>9.461957</td>\n",
              "      <td>164.163688</td>\n",
              "      <td>24.711542</td>\n",
              "      <td>5.915098</td>\n",
              "      <td>1.050617</td>\n",
              "      <td>42.035023</td>\n",
              "      <td>12.781467</td>\n",
              "      <td>1.339771</td>\n",
              "      <td>4.040617</td>\n",
              "      <td>6.431350</td>\n",
              "      <td>79.986639</td>\n",
              "      <td>62.882641</td>\n",
              "      <td>8499.000000</td>\n",
              "    </tr>\n",
              "  </tbody>\n",
              "</table>\n",
              "</div>"
            ],
            "text/plain": [
              "           siteindex         aspect  ...            SLT          RCODE\n",
              "count  191535.000000  191535.000000  ...  191535.000000  191535.000000\n",
              "mean       30.859954     176.311762  ...      17.896682    4429.032866\n",
              "std         3.494284     100.367764  ...       7.135462    1227.508855\n",
              "min         4.968135       0.468776  ...       0.000000    3489.000000\n",
              "25%        28.701300      86.998100  ...      12.618612    3987.000000\n",
              "50%        31.086996     184.070348  ...      17.808460    3987.000000\n",
              "75%        33.351924     258.729503  ...      21.875284    3987.000000\n",
              "max        51.419258     359.179016  ...      62.882641    8499.000000\n",
              "\n",
              "[8 rows x 27 columns]"
            ]
          },
          "metadata": {
            "tags": []
          },
          "execution_count": 62
        }
      ]
    }
  ]
}
